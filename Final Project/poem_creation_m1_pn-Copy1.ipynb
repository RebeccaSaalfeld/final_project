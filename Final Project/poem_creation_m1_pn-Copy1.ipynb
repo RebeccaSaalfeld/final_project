{
 "cells": [
  {
   "cell_type": "code",
   "execution_count": 1,
   "metadata": {},
   "outputs": [
    {
     "data": {
      "text/html": [
       "\n",
       "<script>\n",
       "code_show=false;\n",
       "function code_toggle(){\n",
       "    if(code_show){$('.prompt, .input, .output_stderr, .output_error').hide();}\n",
       "    else{$('.input, .prompt, .output_stderr, .output_error').show();}\n",
       "    code_show=!code_show;\n",
       "}\n",
       "function initialize(){\n",
       "    document.body.style.fontFamily='Palatino';\n",
       "    var output=$('.output_subarea.output_text.output_stream.output_stdout');\n",
       "    $.merge(output,$('.output_subarea.output_text.output_result'));\n",
       "    for(var i=0;i<output.length;i++)for(var j=0;j<output[i].children.length;j++)\n",
       "        output[i].children[j].style.fontFamily='Palatino';\n",
       "    code_toggle();\n",
       "}\n",
       "$(document).ready(initialize);\n",
       "</script>\n",
       "Click <a href=\"javascript:code_toggle()\">here</a> to show/hide codes in this notebook.\n"
      ],
      "text/plain": [
       "<IPython.core.display.HTML object>"
      ]
     },
     "execution_count": 1,
     "metadata": {},
     "output_type": "execute_result"
    }
   ],
   "source": [
    "from IPython.display import HTML\n",
    "HTML('''\n",
    "<script>\n",
    "code_show=false;\n",
    "function code_toggle(){\n",
    "    if(code_show){$('.prompt, .input, .output_stderr, .output_error').hide();}\n",
    "    else{$('.input, .prompt, .output_stderr, .output_error').show();}\n",
    "    code_show=!code_show;\n",
    "}\n",
    "function initialize(){\n",
    "    document.body.style.fontFamily='Palatino';\n",
    "    var output=$('.output_subarea.output_text.output_stream.output_stdout');\n",
    "    $.merge(output,$('.output_subarea.output_text.output_result'));\n",
    "    for(var i=0;i<output.length;i++)for(var j=0;j<output[i].children.length;j++)\n",
    "        output[i].children[j].style.fontFamily='Palatino';\n",
    "    code_toggle();\n",
    "}\n",
    "$(document).ready(initialize);\n",
    "</script>\n",
    "Click <a href=\"javascript:code_toggle()\">here</a> to show/hide codes in this notebook.\n",
    "''')\n"
   ]
  },
  {
   "cell_type": "code",
   "execution_count": 2,
   "metadata": {},
   "outputs": [
    {
     "name": "stdout",
     "output_type": "stream",
     "text": [
      "✔ Download and installation successful\n",
      "You can now load the package via spacy.load('en_core_web_md')\n"
     ]
    }
   ],
   "source": [
    "    import spacy\n",
    "    spacy.cli.download(\"en_core_web_md\")\n",
    "    import random\n",
    "    import pickle\n",
    "    from tensorflow import keras\n",
    "    import gradio as gr\n",
    "    import pandas as pd\n",
    "    import numpy as np\n",
    "    from tensorflow.keras.preprocessing.text import Tokenizer\n",
    "    from tensorflow.keras.preprocessing.sequence import pad_sequences\n",
    "    import gradio as gr"
   ]
  },
  {
   "cell_type": "code",
   "execution_count": 3,
   "metadata": {},
   "outputs": [
    {
     "ename": "TypeError",
     "evalue": "__init__() takes from 1 to 2 positional arguments but 3 were given",
     "output_type": "error",
     "traceback": [
      "\u001b[1;31m---------------------------------------------------------------------------\u001b[0m",
      "\u001b[1;31mTypeError\u001b[0m                                 Traceback (most recent call last)",
      "\u001b[1;32m<ipython-input-3-332825f21671>\u001b[0m in \u001b[0;36m<module>\u001b[1;34m\u001b[0m\n\u001b[0;32m     93\u001b[0m     \u001b[0mname\u001b[0m \u001b[1;33m=\u001b[0m \u001b[0mgr\u001b[0m\u001b[1;33m.\u001b[0m\u001b[0mTextbox\u001b[0m\u001b[1;33m(\u001b[0m\u001b[0mlabel\u001b[0m\u001b[1;33m=\u001b[0m\u001b[1;34m\"Please enter a word:\"\u001b[0m\u001b[1;33m)\u001b[0m\u001b[1;33m\u001b[0m\u001b[1;33m\u001b[0m\u001b[0m\n\u001b[0;32m     94\u001b[0m     \u001b[0moutput\u001b[0m \u001b[1;33m=\u001b[0m \u001b[0mgr\u001b[0m\u001b[1;33m.\u001b[0m\u001b[0mTextbox\u001b[0m\u001b[1;33m(\u001b[0m\u001b[0mlabel\u001b[0m\u001b[1;33m=\u001b[0m\u001b[1;34m'Poem'\u001b[0m\u001b[1;33m)\u001b[0m\u001b[1;33m\u001b[0m\u001b[1;33m\u001b[0m\u001b[0m\n\u001b[1;32m---> 95\u001b[1;33m     \u001b[0mpoet\u001b[0m \u001b[1;33m=\u001b[0m \u001b[0mgr\u001b[0m\u001b[1;33m.\u001b[0m\u001b[0mDropdown\u001b[0m\u001b[1;33m(\u001b[0m\u001b[1;34m'oliver'\u001b[0m\u001b[1;33m,\u001b[0m \u001b[1;34m'neruda'\u001b[0m\u001b[1;33m)\u001b[0m\u001b[1;33m\u001b[0m\u001b[1;33m\u001b[0m\u001b[0m\n\u001b[0m\u001b[0;32m     96\u001b[0m     \u001b[0mpoem_btn\u001b[0m \u001b[1;33m=\u001b[0m \u001b[0mgr\u001b[0m\u001b[1;33m.\u001b[0m\u001b[0mButton\u001b[0m\u001b[1;33m(\u001b[0m\u001b[1;34m\"Create a poem\"\u001b[0m\u001b[1;33m)\u001b[0m\u001b[1;33m\u001b[0m\u001b[1;33m\u001b[0m\u001b[0m\n\u001b[0;32m     97\u001b[0m     \u001b[0mpoem_btn\u001b[0m\u001b[1;33m.\u001b[0m\u001b[0mclick\u001b[0m\u001b[1;33m(\u001b[0m\u001b[0mfn\u001b[0m\u001b[1;33m=\u001b[0m\u001b[0mget_poem\u001b[0m\u001b[1;33m,\u001b[0m \u001b[0minputs\u001b[0m\u001b[1;33m=\u001b[0m\u001b[1;33m(\u001b[0m\u001b[0mname\u001b[0m\u001b[1;33m,\u001b[0m \u001b[0mpoet\u001b[0m\u001b[1;33m)\u001b[0m\u001b[1;33m,\u001b[0m \u001b[0moutputs\u001b[0m\u001b[1;33m=\u001b[0m\u001b[0moutput\u001b[0m\u001b[1;33m)\u001b[0m\u001b[1;33m\u001b[0m\u001b[1;33m\u001b[0m\u001b[0m\n",
      "\u001b[1;31mTypeError\u001b[0m: __init__() takes from 1 to 2 positional arguments but 3 were given"
     ]
    }
   ],
   "source": [
    "def get_poem(input_word, poet):\n",
    "        \n",
    "    #load all the data you need:\n",
    "    if poet == 'neruda':\n",
    "        model = keras.models.load_model('models/pn_model')\n",
    "        word_index = pickle.load(open('pn_word_index.p','rb'))\n",
    "        input_sequences = pickle.load(open('pn_input_sequences.p','rb'))\n",
    "        max_sequence_len = max([len(x) for x in input_sequences])\n",
    "        corpus_cleaned = pd.read_csv('pn_corpus.csv')\n",
    "        tokenizer = pickle.load(open('pn_tokenizer.p','rb'))\n",
    "    elif poet == 'oliver':\n",
    "        model = keras.models.load_model('models/mo')\n",
    "        word_index = pickle.load(open('mo_word_index.p','rb'))\n",
    "        input_sequences = pickle.load(open('mo_input_sequences.p','rb'))\n",
    "        max_sequence_len = max([len(x) for x in input_sequences])\n",
    "        corpus_cleaned = pd.read_csv('mo_corpus.csv')\n",
    "        tokenizer = pickle.load(open('mo_tokenizer.p','rb'))\n",
    "    \n",
    "\n",
    "\n",
    "        \n",
    "    \n",
    "    #input_word = input(\"Enter a word: \")\n",
    "    nlp = spacy.load('en_core_web_md')\n",
    "    topic = nlp(input_word)\n",
    "    \n",
    "    #Create a list for the similarities:\n",
    "    sim_list = []\n",
    "    rand_word_list=[]\n",
    "    \n",
    "    #choose 10 or so random words from word_index of data:\n",
    "    for i in range(0, 20):\n",
    "        rand_word = random.choice(list(word_index.keys()))\n",
    "        #find word in spacy\n",
    "        rand_word_spacy = nlp(rand_word)\n",
    "        rand_word_list.append(rand_word)\n",
    "    \n",
    "        #Compute similarity for the word:\n",
    "        similarity = (topic.similarity(rand_word_spacy))\n",
    "        sim_list.append(similarity)\n",
    "        \n",
    "    #saves similarity to DataFrame\n",
    "    df_1 = pd.DataFrame({'similarity' : sim_list, 'word' : rand_word_list })\n",
    "    df_1.sort_values(by='similarity', inplace=True, ascending=False)\n",
    "    \n",
    "    \n",
    "    #create input words\n",
    "    words_to_use=['the ' + input_word]\n",
    "    \n",
    "    for i in range(0,2):\n",
    "        words_to_use.append(df_1['word'][i])\n",
    "        \n",
    "    \n",
    "        \n",
    "    #Create the actual poem:\n",
    "    poem = []\n",
    "    \n",
    "    choices = random.sample(words_to_use, 3)\n",
    "    for item in choices: \n",
    "        seed_text = item\n",
    "        next_words = random.choice([4,5,6,7,8])\n",
    "        \n",
    "        \n",
    "    \n",
    "        output_index = [0,0,0]\n",
    "        output_word = [0,0,0]\n",
    "        \n",
    "        for _ in range(next_words):\n",
    "            token_list = tokenizer.texts_to_sequences([seed_text])[0]\n",
    "            token_list = pad_sequences([token_list], maxlen=max_sequence_len-1, padding='pre')\n",
    "            predicted = np.argmax(model.predict(token_list, verbose=0), axis=-1)\n",
    "    \n",
    "            \n",
    "            # if-clauses I added, because otherwise the model sometimes gives the same word several times in a row:\n",
    "            if predicted[0] == output_index[-1]:\n",
    "                predicted = np.argsort(model.predict(token_list), axis=-1)[0][-2]\n",
    "            \n",
    "            # also this. Otherwise it sometimes gives a pair of two words several times in a row:\n",
    "            if (predicted[0] == output_index[-2]) & (output_word[-1] == output_word[-3]):\n",
    "                predicted = np.argsort(model_mo.predict(token_list), axis=-1)[0][-2]\n",
    "            \n",
    "            for word, index in tokenizer.word_index.items():\n",
    "                if index == predicted:\n",
    "                    output_word.append(word)\n",
    "                    output_index.append(index)\n",
    "                    break\n",
    "            seed_text += \" \" + output_word[-1]\n",
    "        \n",
    "        poem.append(seed_text)\n",
    "    return poem[0]+'\\n'+ poem[1]+'\\n'+ poem[2]\n",
    "\n",
    "with gr.Blocks() as demo:\n",
    "    name = gr.Textbox(label=\"Please enter a word:\")\n",
    "    output = gr.Textbox(label='Poem')\n",
    "    poet = gr.Dropdown('oliver', 'neruda')\n",
    "    poem_btn = gr.Button(\"Create a poem\")\n",
    "    poem_btn.click(fn=get_poem, inputs=(name, poet), outputs=output)\n",
    "\n",
    "demo.launch(share=True)\n",
    "\n",
    "\n",
    "#demo = gr.Interface(fn=get_poem, inputs=\"text\", outputs=\"text\")\n",
    "#demo.launch(share=True)"
   ]
  },
  {
   "cell_type": "code",
   "execution_count": 4,
   "metadata": {},
   "outputs": [
    {
     "data": {
      "text/html": [
       "<script>initialize();</script>Click <a href=\"javascript:code_toggle()\">here</a> to show/hide codes in this notebook."
      ],
      "text/plain": [
       "<IPython.core.display.HTML object>"
      ]
     },
     "execution_count": 4,
     "metadata": {},
     "output_type": "execute_result"
    }
   ],
   "source": [
    "HTML('''<script>initialize();</script>Click <a href=\"javascript:code_toggle()\">here</a> to show/hide codes in this notebook.''')"
   ]
  }
 ],
 "metadata": {
  "kernelspec": {
   "display_name": "Python 3",
   "language": "python",
   "name": "python3"
  },
  "language_info": {
   "codemirror_mode": {
    "name": "ipython",
    "version": 3
   },
   "file_extension": ".py",
   "mimetype": "text/x-python",
   "name": "python",
   "nbconvert_exporter": "python",
   "pygments_lexer": "ipython3",
   "version": "3.8.5"
  }
 },
 "nbformat": 4,
 "nbformat_minor": 4
}
