{
 "cells": [
  {
   "cell_type": "code",
   "execution_count": null,
   "metadata": {},
   "outputs": [],
   "source": [
    "def get_poem(input_word):\n",
    "    import spacy\n",
    "    spacy.cli.download(\"en_core_web_md\")\n",
    "    import random\n",
    "\n",
    "    #load the word_index and the model\n",
    "    \n",
    "    \n",
    "    #input_word = input(\"Enter a word: \")\n",
    "    nlp = spacy.load('en_core_web_md')\n",
    "    topic = nlp(input_word)\n",
    "\n",
    "    #Create a list for the similarities:\n",
    "    sim_list = []\n",
    "    rand_word_list=[]\n",
    "    \n",
    "    #choose 10 or so random words from word_index of data:\n",
    "    for i in range(0, 20):\n",
    "        rand_word = random.choice(list(word_index.keys()))\n",
    "        #print(rand_word)\n",
    "        #find word in spacy\n",
    "        rand_word_spacy = nlp(rand_word)\n",
    "        rand_word_list.append(rand_word)\n",
    "    \n",
    "        #Compute similarity for the word:\n",
    "        similarity = (topic.similarity(rand_word_spacy))\n",
    "        sim_list.append(similarity)\n",
    "        \n",
    "    #saves similarity to DataFrame\n",
    "    df_1 = pd.DataFrame({'similarity' : sim_list, 'word' : rand_word_list })\n",
    "    df_1.sort_values(by='similarity', inplace=True, ascending=False)"
   ]
  }
 ],
 "metadata": {
  "kernelspec": {
   "display_name": "Python 3",
   "language": "python",
   "name": "python3"
  },
  "language_info": {
   "codemirror_mode": {
    "name": "ipython",
    "version": 3
   },
   "file_extension": ".py",
   "mimetype": "text/x-python",
   "name": "python",
   "nbconvert_exporter": "python",
   "pygments_lexer": "ipython3",
   "version": "3.8.5"
  }
 },
 "nbformat": 4,
 "nbformat_minor": 4
}
